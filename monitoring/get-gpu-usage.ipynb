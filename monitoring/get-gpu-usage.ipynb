{
 "cells": [
  {
   "cell_type": "code",
   "execution_count": 6,
   "metadata": {},
   "outputs": [],
   "source": [
    "import subprocess\n",
    "import pandas as pd\n",
    "from io import StringIO\n",
    "import yaml"
   ]
  },
  {
   "cell_type": "code",
   "execution_count": 25,
   "metadata": {},
   "outputs": [],
   "source": [
    "with open(\"workstations.yaml\", 'r') as stream:\n",
    "    try:\n",
    "        config = yaml.safe_load(stream)\n",
    "    except yaml.YAMLError as exc:\n",
    "        print(exc)"
   ]
  },
  {
   "cell_type": "code",
   "execution_count": 32,
   "metadata": {},
   "outputs": [
    {
     "data": {
      "text/html": [
       "<div>\n",
       "<style scoped>\n",
       "    .dataframe tbody tr th:only-of-type {\n",
       "        vertical-align: middle;\n",
       "    }\n",
       "\n",
       "    .dataframe tbody tr th {\n",
       "        vertical-align: top;\n",
       "    }\n",
       "\n",
       "    .dataframe thead th {\n",
       "        text-align: right;\n",
       "    }\n",
       "</style>\n",
       "<table border=\"1\" class=\"dataframe\">\n",
       "  <thead>\n",
       "    <tr style=\"text-align: right;\">\n",
       "      <th></th>\n",
       "      <th>Index</th>\n",
       "      <th>Name</th>\n",
       "      <th>GPU Utilization (%)</th>\n",
       "      <th>Memory Utilization (%)</th>\n",
       "      <th>Host</th>\n",
       "    </tr>\n",
       "  </thead>\n",
       "  <tbody>\n",
       "    <tr>\n",
       "      <th>0</th>\n",
       "      <td>0</td>\n",
       "      <td>NVIDIA RTX A6000</td>\n",
       "      <td>74</td>\n",
       "      <td>19</td>\n",
       "      <td>Rack-Server</td>\n",
       "    </tr>\n",
       "    <tr>\n",
       "      <th>1</th>\n",
       "      <td>1</td>\n",
       "      <td>NVIDIA RTX A6000</td>\n",
       "      <td>97</td>\n",
       "      <td>83</td>\n",
       "      <td>Rack-Server</td>\n",
       "    </tr>\n",
       "  </tbody>\n",
       "</table>\n",
       "</div>"
      ],
      "text/plain": [
       "   Index               Name  GPU Utilization (%)  Memory Utilization (%)  \\\n",
       "0      0   NVIDIA RTX A6000                   74                      19   \n",
       "1      1   NVIDIA RTX A6000                   97                      83   \n",
       "\n",
       "          Host  \n",
       "0  Rack-Server  \n",
       "1  Rack-Server  "
      ]
     },
     "execution_count": 32,
     "metadata": {},
     "output_type": "execute_result"
    }
   ],
   "source": [
    "def get_gpu_usage(workstation):\n",
    "    command = f\"ssh {workstation['user']}@{workstation['ip']} nvidia-smi --query-gpu=index,name,utilization.gpu,utilization.memory --format=csv,noheader,nounits\"\n",
    "    process = subprocess.Popen(command, shell=True, stdout=subprocess.PIPE, stderr=subprocess.PIPE)\n",
    "    output, error = process.communicate()\n",
    "    \n",
    "    if process.returncode == 0:\n",
    "        df = pd.read_csv(StringIO(output.decode('utf-8')), names=[\"Index\", \"Name\", \"GPU Utilization (%)\", \"Memory Utilization (%)\"])\n",
    "        df['Host'] = workstation['name']\n",
    "        return df\n",
    "    else:\n",
    "        print(f\"Error accessing {workstation['name']}: {error.decode('utf-8')}\")\n",
    "        return pd.DataFrame()\n",
    "\n",
    "all_data = pd.concat([get_gpu_usage(workstation) for workstation in config['workstations'] if workstation.get('ip')])\n",
    "all_data"
   ]
  },
  {
   "cell_type": "code",
   "execution_count": 28,
   "metadata": {},
   "outputs": [],
   "source": [
    "def get_gpu_usage(workstation):\n",
    "    command = (\n",
    "        f\"ssh {workstation['user']}@{workstation['ip']} \"\n",
    "        \"'nvidia-smi \"\n",
    "        \"--query-gpu=index,name,driver_version,cuda_version,utilization.gpu,utilization.memory,\"\n",
    "        \"fan.speed,temperature.gpu,power.draw \"\n",
    "        \"--format=csv,noheader,nounits'\"\n",
    "    )\n",
    "    process = subprocess.Popen(command, shell=True, stdout=subprocess.PIPE, stderr=subprocess.PIPE)\n",
    "    output, error = process.communicate()\n",
    "    \n",
    "    if process.returncode == 0:\n",
    "        df = pd.read_csv(StringIO(output.decode('utf-8')), names=[\n",
    "            \"Index\", \"Name\", \"Driver Version\", \"CUDA Version\", \n",
    "            \"GPU Utilization (%)\", \"Memory Utilization (%)\",\n",
    "            \"Fan Speed (%)\", \"Temperature (C)\", \"Power Usage (W)\"\n",
    "        ])\n",
    "        df['Host'] = workstation['name']\n",
    "        return df\n",
    "    else:\n",
    "        print(f\"Error accessing {workstation['name']}: {error.decode('utf-8')}\")\n",
    "        return pd.DataFrame()"
   ]
  },
  {
   "cell_type": "code",
   "execution_count": 31,
   "metadata": {},
   "outputs": [
    {
     "name": "stdout",
     "output_type": "stream",
     "text": [
      "Error accessing Rack-Server: \n"
     ]
    },
    {
     "data": {
      "text/html": [
       "<div>\n",
       "<style scoped>\n",
       "    .dataframe tbody tr th:only-of-type {\n",
       "        vertical-align: middle;\n",
       "    }\n",
       "\n",
       "    .dataframe tbody tr th {\n",
       "        vertical-align: top;\n",
       "    }\n",
       "\n",
       "    .dataframe thead th {\n",
       "        text-align: right;\n",
       "    }\n",
       "</style>\n",
       "<table border=\"1\" class=\"dataframe\">\n",
       "  <thead>\n",
       "    <tr style=\"text-align: right;\">\n",
       "      <th></th>\n",
       "    </tr>\n",
       "  </thead>\n",
       "  <tbody>\n",
       "  </tbody>\n",
       "</table>\n",
       "</div>"
      ],
      "text/plain": [
       "Empty DataFrame\n",
       "Columns: []\n",
       "Index: []"
      ]
     },
     "execution_count": 31,
     "metadata": {},
     "output_type": "execute_result"
    }
   ],
   "source": [
    "all_data = pd.concat([get_gpu_usage(workstation) for workstation in config['workstations'] if workstation.get('ip')])\n",
    "all_data"
   ]
  },
  {
   "cell_type": "code",
   "execution_count": null,
   "metadata": {},
   "outputs": [],
   "source": []
  }
 ],
 "metadata": {
  "kernelspec": {
   "display_name": "Python 3",
   "language": "python",
   "name": "python3"
  },
  "language_info": {
   "codemirror_mode": {
    "name": "ipython",
    "version": 3
   },
   "file_extension": ".py",
   "mimetype": "text/x-python",
   "name": "python",
   "nbconvert_exporter": "python",
   "pygments_lexer": "ipython3",
   "version": "3.11.8"
  }
 },
 "nbformat": 4,
 "nbformat_minor": 2
}
